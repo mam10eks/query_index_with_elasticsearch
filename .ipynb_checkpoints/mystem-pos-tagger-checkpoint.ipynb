{
 "cells": [
  {
   "cell_type": "code",
   "execution_count": null,
   "metadata": {},
   "outputs": [],
   "source": [
    "import json\n",
    "import subprocess\n",
    "import string\n",
    "import re\n",
    "from tqdm import tqdm_notebook as tqdm\n",
    "import pandas as pd\n",
    "import numpy as np\n",
    "\n",
    "class Mystem(object):\n",
    "    \n",
    "    def __init__(self):\n",
    "        self._proc = None\n",
    "\n",
    "    def _start(self):\n",
    "        self._proc = subprocess.Popen(\n",
    "           \"./mystem --format json -cgi --eng-gr\".split(), \n",
    "           stdin=subprocess.PIPE, stdout=subprocess.PIPE)    \n",
    "\n",
    "    def _getProc(self):\n",
    "        if self._proc is None:\n",
    "            self._start()\n",
    "        return self._proc\n",
    "    \n",
    "    def process(self, text):\n",
    "        p = self._getProc()\n",
    "        p.stdin.write(text.strip().encode('utf8'))\n",
    "        p.stdin.write('\\n'.encode('utf8'))\n",
    "        p.stdin.flush()\n",
    "        return json.loads(p.stdout.readline().decode('utf8'))\n",
    "    \n",
    "mst = Mystem()\n",
    "\n",
    "# punctuation removal\n",
    "def strip_punct(s):\n",
    "    s = re.sub('[^А-Яа-яЁёA-Za-z0-9]', ' ', s.lower())\n",
    "    return \" \".join(s.split())\n",
    "\n",
    "# create a string in form 'word1 pos-tag1 word2 pos-tag2...' \n",
    "def pos(l):\n",
    "    dd=[]\n",
    "    for d1 in l:\n",
    "        l2 = d1.get('analysis', [])\n",
    "        l3 = d1.get('text', [])\n",
    "        if l2 != []:\n",
    "            dd.append(l3)\n",
    "            grammems = []\n",
    "            for d2 in l2:\n",
    "                if 'gr' in d2:\n",
    "                    grammems.append(d2['gr'])\n",
    "                    grammems_str = ' '.join(grammems).lower()\n",
    "            pos = ''\n",
    "            if re.search('comp', grammems_str): pos = 'comp'\n",
    "            elif re.search('supr', grammems_str): pos = 'supr'\n",
    "            else: pos = grammems[0].split('=')[0].split(',')[0]\n",
    "            dd.append(pos)\n",
    "        elif 'analysis' in d1:  \n",
    "            dd.append(l3)\n",
    "            dd.append('latin')\n",
    "            #dd.append(pos_tag([l3])[0][1])\n",
    "    return ' '.join(dd).lower()"
   ]
  },
  {
   "cell_type": "code",
   "execution_count": null,
   "metadata": {},
   "outputs": [],
   "source": [
    "# TODO\n",
    "#read file in pandas\n",
    "#select only opinion/argument questions\n",
    "\n",
    "# example how to run punctuation removal and mystem\n",
    "questions = [pos(mst.process(strip_punct(question))) for question in data['question'].tolist()]"
   ]
  }
 ],
 "metadata": {
  "kernelspec": {
   "display_name": "Python 3",
   "language": "python",
   "name": "python3"
  },
  "language_info": {
   "codemirror_mode": {
    "name": "ipython",
    "version": 3
   },
   "file_extension": ".py",
   "mimetype": "text/x-python",
   "name": "python",
   "nbconvert_exporter": "python",
   "pygments_lexer": "ipython3",
   "version": "3.6.7"
  }
 },
 "nbformat": 4,
 "nbformat_minor": 2
}
